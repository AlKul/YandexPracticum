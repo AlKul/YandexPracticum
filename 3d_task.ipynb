{
 "cells": [
  {
   "cell_type": "markdown",
   "metadata": {},
   "source": [
    "# Подготовка"
   ]
  },
  {
   "cell_type": "code",
   "execution_count": 1,
   "metadata": {},
   "outputs": [],
   "source": [
    "#!pip install psycopg2-binary"
   ]
  },
  {
   "cell_type": "code",
   "execution_count": 2,
   "metadata": {
    "tags": []
   },
   "outputs": [],
   "source": [
    "#!pip3 install psycopg2"
   ]
  },
  {
   "cell_type": "code",
   "execution_count": 3,
   "metadata": {},
   "outputs": [],
   "source": [
    "from matplotlib import pyplot as plt"
   ]
  },
  {
   "cell_type": "code",
   "execution_count": 4,
   "metadata": {},
   "outputs": [
    {
     "name": "stdout",
     "output_type": "stream",
     "text": [
      "   delta_seconds                  lesson_datetime  \\\n",
      "0            4.0 2020-04-16 14:41:54.781518+00:00   \n",
      "1            4.0 2020-04-12 13:27:55.500944+00:00   \n",
      "2            4.0 2020-04-12 13:27:59.958522+00:00   \n",
      "3            4.0 2020-04-12 13:28:04.474273+00:00   \n",
      "4            3.0 2020-04-12 13:36:33.836217+00:00   \n",
      "\n",
      "                              lesson_id             next_lesson_datetime  \\\n",
      "0  24d355f6-4f88-4c05-bf51-e0e1db42f184 2020-04-16 14:41:59.139353+00:00   \n",
      "1  b65b6ada-b087-44ba-b66d-74a05b96e8b7 2020-04-12 13:27:59.958522+00:00   \n",
      "2  cec6f205-490c-4e36-8167-53db63585876 2020-04-12 13:28:04.474273+00:00   \n",
      "3  b1505742-72ef-456f-b3f6-932461fadce6 2020-04-12 13:28:08.548023+00:00   \n",
      "4  d0162814-ae0a-4c0c-8e60-22ecf53c5348 2020-04-12 13:36:37.763311+00:00   \n",
      "\n",
      "  profession_name  user_id  \n",
      "0    data-analyst     4409  \n",
      "1    data-analyst    16144  \n",
      "2    data-analyst    16144  \n",
      "3    data-analyst    16144  \n",
      "4    data-analyst    16144  \n"
     ]
    }
   ],
   "source": [
    "import pandas as pd\n",
    "from sqlalchemy import create_engine\n",
    "\n",
    "db_config = {'user': 'challenge_user', # имя пользователя\n",
    "             'pwd': 'aT00GAh944YU4Q1J4zbzryW6Yrz11iq54coz', # пароль\n",
    "             'host': 'rc1a-eqy3nymy2wp6tbx2.mdb.yandexcloud.net', # адрес сервера\n",
    "             'port': 6432, # порт подключения\n",
    "             'db': 'data-analyst-challenge'}# название базы данных\n",
    " \n",
    "# Формируем строку соединения с БД.\n",
    "connection_string = 'postgresql://{}:{}@{}:{}/{}'.format(db_config['user'],\n",
    "                                             db_config['pwd'],\n",
    "                                             db_config['host'],\n",
    "                                             db_config['port'],\n",
    "                                             db_config['db'])\n",
    "# Подключаемся к БД.\n",
    "engine = create_engine(connection_string)\n",
    "\n",
    "# Формируем sql-запрос(пример).\n",
    "query = ''' \n",
    "        with t1 as \n",
    "                (select date_created,\n",
    "                        user_id,\n",
    "                        flt.lesson_id,\n",
    "                        profession_name\n",
    "                from finished_lesson_test flt\n",
    "                join  lesson_index_test lit\n",
    "                on flt.lesson_id = lit.lesson_id\n",
    "                where date_created BETWEEN '01.04.2020' and '01.05.2020'\n",
    "                and profession_name = 'data-analyst'\n",
    "                ),\n",
    "        t2 as (\n",
    "            select *, \n",
    "                LEAD(date_created) OVER(partition by user_id ORDER BY date_created) as next_date\n",
    "            from t1\n",
    "        )\n",
    "        select floor(EXTRACT(EPOCH FROM (next_date - date_created))) AS delta_seconds, date_created as lesson_datetime, lesson_id, next_date as next_lesson_datetime, profession_name, user_id\n",
    "        from t2\n",
    "        where EXTRACT(EPOCH FROM (next_date - date_created)) < 5\n",
    "        --and user_id = next_user */\n",
    "        '''\n",
    "\n",
    "query2 = ''' \n",
    "        with t1 as \n",
    "                (select date_created,\n",
    "                        user_id,\n",
    "                        flt.lesson_id,\n",
    "                        profession_name\n",
    "                from finished_lesson_test flt\n",
    "                join  lesson_index_test lit\n",
    "                on flt.lesson_id = lit.lesson_id\n",
    "                where date_created BETWEEN '01.04.2020' and '01.05.2020'\n",
    "                and profession_name = 'data-analyst'\n",
    "                ),\n",
    "        t2 as (\n",
    "            select *, \n",
    "                LEAD(date_created) OVER(partition by user_id ORDER BY date_created) as next_date\n",
    "            from t1\n",
    "        )\n",
    "        select floor(EXTRACT(EPOCH FROM (next_date - date_created))) AS delta_seconds, date_created as lesson_datetime, lesson_id, next_date as next_lesson_datetime, profession_name, user_id\n",
    "        from t2\n",
    "        --where EXTRACT(EPOCH FROM (next_date - date_created)) >= 5\n",
    "        --and user_id = next_user */\n",
    "        '''\n",
    "# Выполняем запрос и сохраняем результат\n",
    "# выполнения в DataFrame.\n",
    "# Sqlalchemy автоматически установит названия колонок\n",
    "# такими же, как у таблицы в БД.\n",
    "data_raw = pd.io.sql.read_sql(query, con = engine)\n",
    "data_raw2 = pd.io.sql.read_sql(query2, con = engine)\n",
    "print(data_raw.head(5))"
   ]
  },
  {
   "cell_type": "code",
   "execution_count": 5,
   "metadata": {},
   "outputs": [],
   "source": [
    "df = data_raw\n",
    "df1 = data_raw2"
   ]
  },
  {
   "cell_type": "code",
   "execution_count": 6,
   "metadata": {},
   "outputs": [
    {
     "data": {
      "text/plain": [
       "Index(['delta_seconds', 'lesson_datetime', 'lesson_id', 'next_lesson_datetime',\n",
       "       'profession_name', 'user_id'],\n",
       "      dtype='object')"
      ]
     },
     "execution_count": 6,
     "metadata": {},
     "output_type": "execute_result"
    }
   ],
   "source": [
    "df1.columns"
   ]
  },
  {
   "cell_type": "code",
   "execution_count": 7,
   "metadata": {},
   "outputs": [],
   "source": [
    "import numpy as np"
   ]
  },
  {
   "cell_type": "code",
   "execution_count": 8,
   "metadata": {},
   "outputs": [
    {
     "data": {
      "text/plain": [
       "226"
      ]
     },
     "execution_count": 8,
     "metadata": {},
     "output_type": "execute_result"
    }
   ],
   "source": [
    "df1[(df1['delta_seconds'] < 5)].shape[0]"
   ]
  },
  {
   "cell_type": "code",
   "execution_count": 9,
   "metadata": {},
   "outputs": [
    {
     "data": {
      "text/html": [
       "<div>\n",
       "<style scoped>\n",
       "    .dataframe tbody tr th:only-of-type {\n",
       "        vertical-align: middle;\n",
       "    }\n",
       "\n",
       "    .dataframe tbody tr th {\n",
       "        vertical-align: top;\n",
       "    }\n",
       "\n",
       "    .dataframe thead th {\n",
       "        text-align: right;\n",
       "    }\n",
       "</style>\n",
       "<table border=\"1\" class=\"dataframe\">\n",
       "  <thead>\n",
       "    <tr style=\"text-align: right;\">\n",
       "      <th></th>\n",
       "      <th>delta_seconds</th>\n",
       "      <th>lesson_datetime</th>\n",
       "      <th>lesson_id</th>\n",
       "      <th>next_lesson_datetime</th>\n",
       "      <th>profession_name</th>\n",
       "      <th>user_id</th>\n",
       "    </tr>\n",
       "  </thead>\n",
       "  <tbody>\n",
       "    <tr>\n",
       "      <th>7</th>\n",
       "      <td>NaN</td>\n",
       "      <td>2020-04-30 12:10:27.144257+00:00</td>\n",
       "      <td>e08c3d4a-a46b-4775-9f05-5fd94cac53a0</td>\n",
       "      <td>NaT</td>\n",
       "      <td>data-analyst</td>\n",
       "      <td>493</td>\n",
       "    </tr>\n",
       "    <tr>\n",
       "      <th>13</th>\n",
       "      <td>NaN</td>\n",
       "      <td>2020-04-15 17:08:49.029398+00:00</td>\n",
       "      <td>bb3ff463-8ada-4850-86a1-3b0ebca17488</td>\n",
       "      <td>NaT</td>\n",
       "      <td>data-analyst</td>\n",
       "      <td>1388</td>\n",
       "    </tr>\n",
       "    <tr>\n",
       "      <th>18</th>\n",
       "      <td>NaN</td>\n",
       "      <td>2020-04-20 17:12:44.511085+00:00</td>\n",
       "      <td>3c365926-e395-4e7c-9d7a-4fb97bb145f9</td>\n",
       "      <td>NaT</td>\n",
       "      <td>data-analyst</td>\n",
       "      <td>1686</td>\n",
       "    </tr>\n",
       "    <tr>\n",
       "      <th>32</th>\n",
       "      <td>NaN</td>\n",
       "      <td>2020-04-21 17:20:35.365432+00:00</td>\n",
       "      <td>f47f257b-9f50-4221-91b1-b50b536ed82f</td>\n",
       "      <td>NaT</td>\n",
       "      <td>data-analyst</td>\n",
       "      <td>2073</td>\n",
       "    </tr>\n",
       "    <tr>\n",
       "      <th>66</th>\n",
       "      <td>NaN</td>\n",
       "      <td>2020-04-13 10:20:07.764432+00:00</td>\n",
       "      <td>7f822db5-7360-4f5c-b452-75b25aa3d658</td>\n",
       "      <td>NaT</td>\n",
       "      <td>data-analyst</td>\n",
       "      <td>2095</td>\n",
       "    </tr>\n",
       "    <tr>\n",
       "      <th>...</th>\n",
       "      <td>...</td>\n",
       "      <td>...</td>\n",
       "      <td>...</td>\n",
       "      <td>...</td>\n",
       "      <td>...</td>\n",
       "      <td>...</td>\n",
       "    </tr>\n",
       "    <tr>\n",
       "      <th>173753</th>\n",
       "      <td>NaN</td>\n",
       "      <td>2020-04-30 20:33:00.414831+00:00</td>\n",
       "      <td>7a13f8d7-0883-4060-a1b0-9b33ca37f678</td>\n",
       "      <td>NaT</td>\n",
       "      <td>data-analyst</td>\n",
       "      <td>1702287</td>\n",
       "    </tr>\n",
       "    <tr>\n",
       "      <th>173754</th>\n",
       "      <td>NaN</td>\n",
       "      <td>2020-04-30 20:11:43.147001+00:00</td>\n",
       "      <td>7a13f8d7-0883-4060-a1b0-9b33ca37f678</td>\n",
       "      <td>NaT</td>\n",
       "      <td>data-analyst</td>\n",
       "      <td>1702294</td>\n",
       "    </tr>\n",
       "    <tr>\n",
       "      <th>173762</th>\n",
       "      <td>NaN</td>\n",
       "      <td>2020-04-30 20:41:23.308869+00:00</td>\n",
       "      <td>e08c3d4a-a46b-4775-9f05-5fd94cac53a0</td>\n",
       "      <td>NaT</td>\n",
       "      <td>data-analyst</td>\n",
       "      <td>1702318</td>\n",
       "    </tr>\n",
       "    <tr>\n",
       "      <th>173763</th>\n",
       "      <td>NaN</td>\n",
       "      <td>2020-04-30 20:39:06.590500+00:00</td>\n",
       "      <td>7a13f8d7-0883-4060-a1b0-9b33ca37f678</td>\n",
       "      <td>NaT</td>\n",
       "      <td>data-analyst</td>\n",
       "      <td>1702360</td>\n",
       "    </tr>\n",
       "    <tr>\n",
       "      <th>173768</th>\n",
       "      <td>NaN</td>\n",
       "      <td>2020-04-30 20:54:38.444305+00:00</td>\n",
       "      <td>3c365926-e395-4e7c-9d7a-4fb97bb145f9</td>\n",
       "      <td>NaT</td>\n",
       "      <td>data-analyst</td>\n",
       "      <td>1702433</td>\n",
       "    </tr>\n",
       "  </tbody>\n",
       "</table>\n",
       "<p>11267 rows × 6 columns</p>\n",
       "</div>"
      ],
      "text/plain": [
       "        delta_seconds                  lesson_datetime  \\\n",
       "7                 NaN 2020-04-30 12:10:27.144257+00:00   \n",
       "13                NaN 2020-04-15 17:08:49.029398+00:00   \n",
       "18                NaN 2020-04-20 17:12:44.511085+00:00   \n",
       "32                NaN 2020-04-21 17:20:35.365432+00:00   \n",
       "66                NaN 2020-04-13 10:20:07.764432+00:00   \n",
       "...               ...                              ...   \n",
       "173753            NaN 2020-04-30 20:33:00.414831+00:00   \n",
       "173754            NaN 2020-04-30 20:11:43.147001+00:00   \n",
       "173762            NaN 2020-04-30 20:41:23.308869+00:00   \n",
       "173763            NaN 2020-04-30 20:39:06.590500+00:00   \n",
       "173768            NaN 2020-04-30 20:54:38.444305+00:00   \n",
       "\n",
       "                                   lesson_id next_lesson_datetime  \\\n",
       "7       e08c3d4a-a46b-4775-9f05-5fd94cac53a0                  NaT   \n",
       "13      bb3ff463-8ada-4850-86a1-3b0ebca17488                  NaT   \n",
       "18      3c365926-e395-4e7c-9d7a-4fb97bb145f9                  NaT   \n",
       "32      f47f257b-9f50-4221-91b1-b50b536ed82f                  NaT   \n",
       "66      7f822db5-7360-4f5c-b452-75b25aa3d658                  NaT   \n",
       "...                                      ...                  ...   \n",
       "173753  7a13f8d7-0883-4060-a1b0-9b33ca37f678                  NaT   \n",
       "173754  7a13f8d7-0883-4060-a1b0-9b33ca37f678                  NaT   \n",
       "173762  e08c3d4a-a46b-4775-9f05-5fd94cac53a0                  NaT   \n",
       "173763  7a13f8d7-0883-4060-a1b0-9b33ca37f678                  NaT   \n",
       "173768  3c365926-e395-4e7c-9d7a-4fb97bb145f9                  NaT   \n",
       "\n",
       "       profession_name  user_id  \n",
       "7         data-analyst      493  \n",
       "13        data-analyst     1388  \n",
       "18        data-analyst     1686  \n",
       "32        data-analyst     2073  \n",
       "66        data-analyst     2095  \n",
       "...                ...      ...  \n",
       "173753    data-analyst  1702287  \n",
       "173754    data-analyst  1702294  \n",
       "173762    data-analyst  1702318  \n",
       "173763    data-analyst  1702360  \n",
       "173768    data-analyst  1702433  \n",
       "\n",
       "[11267 rows x 6 columns]"
      ]
     },
     "execution_count": 9,
     "metadata": {},
     "output_type": "execute_result"
    }
   ],
   "source": [
    "df1[df1['delta_seconds'].isna()]"
   ]
  },
  {
   "cell_type": "code",
   "execution_count": 10,
   "metadata": {},
   "outputs": [],
   "source": [
    "df2 = df1.dropna(subset = ['delta_seconds'])"
   ]
  },
  {
   "cell_type": "code",
   "execution_count": 11,
   "metadata": {},
   "outputs": [
    {
     "name": "stderr",
     "output_type": "stream",
     "text": [
      "/var/folders/zn/1572lrw14snff0mc3dlr9grc0000gn/T/ipykernel_2863/1234246750.py:3: UserWarning: Boolean Series key will be reindexed to match DataFrame index.\n",
      "  df2[(df2['delta_seconds'] < 60) & (df1['delta_seconds'] >= 5)].shape[0], \\\n"
     ]
    }
   ],
   "source": [
    "sizes = np.array([\\\n",
    "df2[(df2['delta_seconds'] >= 60)].shape[0],\\\n",
    "df2[(df2['delta_seconds'] < 60) & (df1['delta_seconds'] >= 5)].shape[0], \\\n",
    "df2[(df2['delta_seconds'] < 5)].shape[0]])\\\n",
    "/ \\\n",
    "df2.shape[0]"
   ]
  },
  {
   "cell_type": "markdown",
   "metadata": {},
   "source": [
    "# Чарты"
   ]
  },
  {
   "cell_type": "markdown",
   "metadata": {},
   "source": [
    "На чарте представлено процентное содержание \n",
    "* Уроков, пройденных за большее время, чем 1 минута\n",
    "* Уроков, оконченных дольше, чем за 5 сек, но медленнее, чем за 1 минуту\n",
    "* Уроков, оконченных быстрее, чем за 5 сек"
   ]
  },
  {
   "cell_type": "code",
   "execution_count": 12,
   "metadata": {},
   "outputs": [],
   "source": [
    "labels = ('More Than 1 minute', 'Between 5 secs and 1 minute', 'Less than 5 secs')"
   ]
  },
  {
   "cell_type": "code",
   "execution_count": 13,
   "metadata": {},
   "outputs": [],
   "source": [
    "explode = [0., 0., 0.5]"
   ]
  },
  {
   "cell_type": "code",
   "execution_count": 14,
   "metadata": {},
   "outputs": [
    {
     "data": {
      "image/png": "[encoded data removed]",
      "text/plain": [
       "<Figure size 720x720 with 1 Axes>"
      ]
     },
     "metadata": {},
     "output_type": "display_data"
    }
   ],
   "source": [
    "plt.figure(figsize=(10,10))\n",
    "plt.pie(sizes, explode=explode, labels=labels, autopct='%1.1f%%',\n",
    "        shadow=False, startangle=0, colors = ['cornflowerblue', 'lightgreen', 'r'])\n",
    "plt.show()"
   ]
  },
  {
   "cell_type": "code",
   "execution_count": 22,
   "metadata": {},
   "outputs": [
    {
     "data": {
      "application/vnd.plotly.v1+json": {
       "config": {
        "plotlyServerURL": "https://plot.ly"
       },
       "data": [
        {
         "domain": {
          "column": 0,
          "row": 0
         },
         "mode": "number",
         "title": {
          "text": "Количество уроков с быстрым прохождением"
         },
         "type": "indicator",
         "value": 40
        },
        {
         "domain": {
          "column": 1,
          "row": 0
         },
         "mode": "gauge+number",
         "title": {
          "text": "Медианный интервал (сек)"
         },
         "type": "indicator",
         "value": 391
        }
       ],
       "layout": {
        "grid": {
         "columns": 2,
         "pattern": "independent",
         "rows": 1
        },
        "template": {
         "data": {
          "bar": [
           {
            "error_x": {
             "color": "#2a3f5f"
            },
            "error_y": {
             "color": "#2a3f5f"
            },
            "marker": {
             "line": {
              "color": "#E5ECF6",
              "width": 0.5
             },
             "pattern": {
              "fillmode": "overlay",
              "size": 10,
              "solidity": 0.2
             }
            },
            "type": "bar"
           }
          ],
          "barpolar": [
           {
            "marker": {
             "line": {
              "color": "#E5ECF6",
              "width": 0.5
             },
             "pattern": {
              "fillmode": "overlay",
              "size": 10,
              "solidity": 0.2
             }
            },
            "type": "barpolar"
           }
          ],
          "carpet": [
           {
            "aaxis": {
             "endlinecolor": "#2a3f5f",
             "gridcolor": "white",
             "linecolor": "white",
             "minorgridcolor": "white",
             "startlinecolor": "#2a3f5f"
            },
            "baxis": {
             "endlinecolor": "#2a3f5f",
             "gridcolor": "white",
             "linecolor": "white",
             "minorgridcolor": "white",
             "startlinecolor": "#2a3f5f"
            },
            "type": "carpet"
           }
          ],
          "choropleth": [
           {
            "colorbar": {
             "outlinewidth": 0,
             "ticks": ""
            },
            "type": "choropleth"
           }
          ],
          "contour": [
           {
            "colorbar": {
             "outlinewidth": 0,
             "ticks": ""
            },
            "colorscale": [
             [
              0,
              "#0d0887"
             ],
             [
              0.1111111111111111,
              "#46039f"
             ],
             [
              0.2222222222222222,
              "#7201a8"
             ],
             [
              0.3333333333333333,
              "#9c179e"
             ],
             [
              0.4444444444444444,
              "#bd3786"
             ],
             [
              0.5555555555555556,
              "#d8576b"
             ],
             [
              0.6666666666666666,
              "#ed7953"
             ],
             [
              0.7777777777777778,
              "#fb9f3a"
             ],
             [
              0.8888888888888888,
              "#fdca26"
             ],
             [
              1,
              "#f0f921"
             ]
            ],
            "type": "contour"
           }
          ],
          "contourcarpet": [
           {
            "colorbar": {
             "outlinewidth": 0,
             "ticks": ""
            },
            "type": "contourcarpet"
           }
          ],
          "heatmap": [
           {
            "colorbar": {
             "outlinewidth": 0,
             "ticks": ""
            },
            "colorscale": [
             [
              0,
              "#0d0887"
             ],
             [
              0.1111111111111111,
              "#46039f"
             ],
             [
              0.2222222222222222,
              "#7201a8"
             ],
             [
              0.3333333333333333,
              "#9c179e"
             ],
             [
              0.4444444444444444,
              "#bd3786"
             ],
             [
              0.5555555555555556,
              "#d8576b"
             ],
             [
              0.6666666666666666,
              "#ed7953"
             ],
             [
              0.7777777777777778,
              "#fb9f3a"
             ],
             [
              0.8888888888888888,
              "#fdca26"
             ],
             [
              1,
              "#f0f921"
             ]
            ],
            "type": "heatmap"
           }
          ],
          "heatmapgl": [
           {
            "colorbar": {
             "outlinewidth": 0,
             "ticks": ""
            },
            "colorscale": [
             [
              0,
              "#0d0887"
             ],
             [
              0.1111111111111111,
              "#46039f"
             ],
             [
              0.2222222222222222,
              "#7201a8"
             ],
             [
              0.3333333333333333,
              "#9c179e"
             ],
             [
              0.4444444444444444,
              "#bd3786"
             ],
             [
              0.5555555555555556,
              "#d8576b"
             ],
             [
              0.6666666666666666,
              "#ed7953"
             ],
             [
              0.7777777777777778,
              "#fb9f3a"
             ],
             [
              0.8888888888888888,
              "#fdca26"
             ],
             [
              1,
              "#f0f921"
             ]
            ],
            "type": "heatmapgl"
           }
          ],
          "histogram": [
           {
            "marker": {
             "pattern": {
              "fillmode": "overlay",
              "size": 10,
              "solidity": 0.2
             }
            },
            "type": "histogram"
           }
          ],
          "histogram2d": [
           {
            "colorbar": {
             "outlinewidth": 0,
             "ticks": ""
            },
            "colorscale": [
             [
              0,
              "#0d0887"
             ],
             [
              0.1111111111111111,
              "#46039f"
             ],
             [
              0.2222222222222222,
              "#7201a8"
             ],
             [
              0.3333333333333333,
              "#9c179e"
             ],
             [
              0.4444444444444444,
              "#bd3786"
             ],
             [
              0.5555555555555556,
              "#d8576b"
             ],
             [
              0.6666666666666666,
              "#ed7953"
             ],
             [
              0.7777777777777778,
              "#fb9f3a"
             ],
             [
              0.8888888888888888,
              "#fdca26"
             ],
             [
              1,
              "#f0f921"
             ]
            ],
            "type": "histogram2d"
           }
          ],
          "histogram2dcontour": [
           {
            "colorbar": {
             "outlinewidth": 0,
             "ticks": ""
            },
            "colorscale": [
             [
              0,
              "#0d0887"
             ],
             [
              0.1111111111111111,
              "#46039f"
             ],
             [
              0.2222222222222222,
              "#7201a8"
             ],
             [
              0.3333333333333333,
              "#9c179e"
             ],
             [
              0.4444444444444444,
              "#bd3786"
             ],
             [
              0.5555555555555556,
              "#d8576b"
             ],
             [
              0.6666666666666666,
              "#ed7953"
             ],
             [
              0.7777777777777778,
              "#fb9f3a"
             ],
             [
              0.8888888888888888,
              "#fdca26"
             ],
             [
              1,
              "#f0f921"
             ]
            ],
            "type": "histogram2dcontour"
           }
          ],
          "indicator": [
           {
            "delta": {
             "reference": 90
            },
            "mode": "number+delta+gauge",
            "title": {
             "text": "Speed"
            },
            "type": "indicator"
           }
          ],
          "mesh3d": [
           {
            "colorbar": {
             "outlinewidth": 0,
             "ticks": ""
            },
            "type": "mesh3d"
           }
          ],
          "parcoords": [
           {
            "line": {
             "colorbar": {
              "outlinewidth": 0,
              "ticks": ""
             }
            },
            "type": "parcoords"
           }
          ],
          "pie": [
           {
            "automargin": true,
            "type": "pie"
           }
          ],
          "scatter": [
           {
            "fillpattern": {
             "fillmode": "overlay",
             "size": 10,
             "solidity": 0.2
            },
            "type": "scatter"
           }
          ],
          "scatter3d": [
           {
            "line": {
             "colorbar": {
              "outlinewidth": 0,
              "ticks": ""
             }
            },
            "marker": {
             "colorbar": {
              "outlinewidth": 0,
              "ticks": ""
             }
            },
            "type": "scatter3d"
           }
          ],
          "scattercarpet": [
           {
            "marker": {
             "colorbar": {
              "outlinewidth": 0,
              "ticks": ""
             }
            },
            "type": "scattercarpet"
           }
          ],
          "scattergeo": [
           {
            "marker": {
             "colorbar": {
              "outlinewidth": 0,
              "ticks": ""
             }
            },
            "type": "scattergeo"
           }
          ],
          "scattergl": [
           {
            "marker": {
             "colorbar": {
              "outlinewidth": 0,
              "ticks": ""
             }
            },
            "type": "scattergl"
           }
          ],
          "scattermapbox": [
           {
            "marker": {
             "colorbar": {
              "outlinewidth": 0,
              "ticks": ""
             }
            },
            "type": "scattermapbox"
           }
          ],
          "scatterpolar": [
           {
            "marker": {
             "colorbar": {
              "outlinewidth": 0,
              "ticks": ""
             }
            },
            "type": "scatterpolar"
           }
          ],
          "scatterpolargl": [
           {
            "marker": {
             "colorbar": {
              "outlinewidth": 0,
              "ticks": ""
             }
            },
            "type": "scatterpolargl"
           }
          ],
          "scatterternary": [
           {
            "marker": {
             "colorbar": {
              "outlinewidth": 0,
              "ticks": ""
             }
            },
            "type": "scatterternary"
           }
          ],
          "surface": [
           {
            "colorbar": {
             "outlinewidth": 0,
             "ticks": ""
            },
            "colorscale": [
             [
              0,
              "#0d0887"
             ],
             [
              0.1111111111111111,
              "#46039f"
             ],
             [
              0.2222222222222222,
              "#7201a8"
             ],
             [
              0.3333333333333333,
              "#9c179e"
             ],
             [
              0.4444444444444444,
              "#bd3786"
             ],
             [
              0.5555555555555556,
              "#d8576b"
             ],
             [
              0.6666666666666666,
              "#ed7953"
             ],
             [
              0.7777777777777778,
              "#fb9f3a"
             ],
             [
              0.8888888888888888,
              "#fdca26"
             ],
             [
              1,
              "#f0f921"
             ]
            ],
            "type": "surface"
           }
          ],
          "table": [
           {
            "cells": {
             "fill": {
              "color": "#EBF0F8"
             },
             "line": {
              "color": "white"
             }
            },
            "header": {
             "fill": {
              "color": "#C8D4E3"
             },
             "line": {
              "color": "white"
             }
            },
            "type": "table"
           }
          ]
         },
         "layout": {
          "annotationdefaults": {
           "arrowcolor": "#2a3f5f",
           "arrowhead": 0,
           "arrowwidth": 1
          },
          "autotypenumbers": "strict",
          "coloraxis": {
           "colorbar": {
            "outlinewidth": 0,
            "ticks": ""
           }
          },
          "colorscale": {
           "diverging": [
            [
             0,
             "#8e0152"
            ],
            [
             0.1,
             "#c51b7d"
            ],
            [
             0.2,
             "#de77ae"
            ],
            [
             0.3,
             "#f1b6da"
            ],
            [
             0.4,
             "#fde0ef"
            ],
            [
             0.5,
             "#f7f7f7"
            ],
            [
             0.6,
             "#e6f5d0"
            ],
            [
             0.7,
             "#b8e186"
            ],
            [
             0.8,
             "#7fbc41"
            ],
            [
             0.9,
             "#4d9221"
            ],
            [
             1,
             "#276419"
            ]
           ],
           "sequential": [
            [
             0,
             "#0d0887"
            ],
            [
             0.1111111111111111,
             "#46039f"
            ],
            [
             0.2222222222222222,
             "#7201a8"
            ],
            [
             0.3333333333333333,
             "#9c179e"
            ],
            [
             0.4444444444444444,
             "#bd3786"
            ],
            [
             0.5555555555555556,
             "#d8576b"
            ],
            [
             0.6666666666666666,
             "#ed7953"
            ],
            [
             0.7777777777777778,
             "#fb9f3a"
            ],
            [
             0.8888888888888888,
             "#fdca26"
            ],
            [
             1,
             "#f0f921"
            ]
           ],
           "sequentialminus": [
            [
             0,
             "#0d0887"
            ],
            [
             0.1111111111111111,
             "#46039f"
            ],
            [
             0.2222222222222222,
             "#7201a8"
            ],
            [
             0.3333333333333333,
             "#9c179e"
            ],
            [
             0.4444444444444444,
             "#bd3786"
            ],
            [
             0.5555555555555556,
             "#d8576b"
            ],
            [
             0.6666666666666666,
             "#ed7953"
            ],
            [
             0.7777777777777778,
             "#fb9f3a"
            ],
            [
             0.8888888888888888,
             "#fdca26"
            ],
            [
             1,
             "#f0f921"
            ]
           ]
          },
          "colorway": [
           "#636efa",
           "#EF553B",
           "#00cc96",
           "#ab63fa",
           "#FFA15A",
           "#19d3f3",
           "#FF6692",
           "#B6E880",
           "#FF97FF",
           "#FECB52"
          ],
          "font": {
           "color": "#2a3f5f"
          },
          "geo": {
           "bgcolor": "white",
           "lakecolor": "white",
           "landcolor": "#E5ECF6",
           "showlakes": true,
           "showland": true,
           "subunitcolor": "white"
          },
          "hoverlabel": {
           "align": "left"
          },
          "hovermode": "closest",
          "mapbox": {
           "style": "light"
          },
          "paper_bgcolor": "white",
          "plot_bgcolor": "#E5ECF6",
          "polar": {
           "angularaxis": {
            "gridcolor": "white",
            "linecolor": "white",
            "ticks": ""
           },
           "bgcolor": "#E5ECF6",
           "radialaxis": {
            "gridcolor": "white",
            "linecolor": "white",
            "ticks": ""
           }
          },
          "scene": {
           "xaxis": {
            "backgroundcolor": "#E5ECF6",
            "gridcolor": "white",
            "gridwidth": 2,
            "linecolor": "white",
            "showbackground": true,
            "ticks": "",
            "zerolinecolor": "white"
           },
           "yaxis": {
            "backgroundcolor": "#E5ECF6",
            "gridcolor": "white",
            "gridwidth": 2,
            "linecolor": "white",
            "showbackground": true,
            "ticks": "",
            "zerolinecolor": "white"
           },
           "zaxis": {
            "backgroundcolor": "#E5ECF6",
            "gridcolor": "white",
            "gridwidth": 2,
            "linecolor": "white",
            "showbackground": true,
            "ticks": "",
            "zerolinecolor": "white"
           }
          },
          "shapedefaults": {
           "line": {
            "color": "#2a3f5f"
           }
          },
          "ternary": {
           "aaxis": {
            "gridcolor": "white",
            "linecolor": "white",
            "ticks": ""
           },
           "baxis": {
            "gridcolor": "white",
            "linecolor": "white",
            "ticks": ""
           },
           "bgcolor": "#E5ECF6",
           "caxis": {
            "gridcolor": "white",
            "linecolor": "white",
            "ticks": ""
           }
          },
          "title": {
           "x": 0.05
          },
          "xaxis": {
           "automargin": true,
           "gridcolor": "white",
           "linecolor": "white",
           "ticks": "",
           "title": {
            "standoff": 15
           },
           "zerolinecolor": "white",
           "zerolinewidth": 2
          },
          "yaxis": {
           "automargin": true,
           "gridcolor": "white",
           "linecolor": "white",
           "ticks": "",
           "title": {
            "standoff": 15
           },
           "zerolinecolor": "white",
           "zerolinewidth": 2
          }
         }
        }
       }
      },
      "text/html": [
       "<div>                            <div id=\"f593b609-35d4-4456-973d-8716891bdb0c\" class=\"plotly-graph-div\" style=\"height:525px; width:100%;\"></div>            <script type=\"text/javascript\">                require([\"plotly\"], function(Plotly) {                    window.PLOTLYENV=window.PLOTLYENV || {};                                    if (document.getElementById(\"f593b609-35d4-4456-973d-8716891bdb0c\")) {                    Plotly.newPlot(                        \"f593b609-35d4-4456-973d-8716891bdb0c\",                        [{\"domain\":{\"column\":0,\"row\":0},\"mode\":\"number\",\"title\":{\"text\":\"\\u041a\\u043e\\u043b\\u0438\\u0447\\u0435\\u0441\\u0442\\u0432\\u043e \\u0443\\u0440\\u043e\\u043a\\u043e\\u0432 \\u0441 \\u0431\\u044b\\u0441\\u0442\\u0440\\u044b\\u043c \\u043f\\u0440\\u043e\\u0445\\u043e\\u0436\\u0434\\u0435\\u043d\\u0438\\u0435\\u043c\"},\"value\":40,\"type\":\"indicator\"},{\"domain\":{\"column\":1,\"row\":0},\"mode\":\"gauge+number\",\"title\":{\"text\":\"\\u041c\\u0435\\u0434\\u0438\\u0430\\u043d\\u043d\\u044b\\u0439 \\u0438\\u043d\\u0442\\u0435\\u0440\\u0432\\u0430\\u043b (\\u0441\\u0435\\u043a)\"},\"value\":391.0,\"type\":\"indicator\"}],                        {\"template\":{\"data\":{\"histogram2dcontour\":[{\"type\":\"histogram2dcontour\",\"colorbar\":{\"outlinewidth\":0,\"ticks\":\"\"},\"colorscale\":[[0.0,\"#0d0887\"],[0.1111111111111111,\"#46039f\"],[0.2222222222222222,\"#7201a8\"],[0.3333333333333333,\"#9c179e\"],[0.4444444444444444,\"#bd3786\"],[0.5555555555555556,\"#d8576b\"],[0.6666666666666666,\"#ed7953\"],[0.7777777777777778,\"#fb9f3a\"],[0.8888888888888888,\"#fdca26\"],[1.0,\"#f0f921\"]]}],\"choropleth\":[{\"type\":\"choropleth\",\"colorbar\":{\"outlinewidth\":0,\"ticks\":\"\"}}],\"histogram2d\":[{\"type\":\"histogram2d\",\"colorbar\":{\"outlinewidth\":0,\"ticks\":\"\"},\"colorscale\":[[0.0,\"#0d0887\"],[0.1111111111111111,\"#46039f\"],[0.2222222222222222,\"#7201a8\"],[0.3333333333333333,\"#9c179e\"],[0.4444444444444444,\"#bd3786\"],[0.5555555555555556,\"#d8576b\"],[0.6666666666666666,\"#ed7953\"],[0.7777777777777778,\"#fb9f3a\"],[0.8888888888888888,\"#fdca26\"],[1.0,\"#f0f921\"]]}],\"heatmap\":[{\"type\":\"heatmap\",\"colorbar\":{\"outlinewidth\":0,\"ticks\":\"\"},\"colorscale\":[[0.0,\"#0d0887\"],[0.1111111111111111,\"#46039f\"],[0.2222222222222222,\"#7201a8\"],[0.3333333333333333,\"#9c179e\"],[0.4444444444444444,\"#bd3786\"],[0.5555555555555556,\"#d8576b\"],[0.6666666666666666,\"#ed7953\"],[0.7777777777777778,\"#fb9f3a\"],[0.8888888888888888,\"#fdca26\"],[1.0,\"#f0f921\"]]}],\"heatmapgl\":[{\"type\":\"heatmapgl\",\"colorbar\":{\"outlinewidth\":0,\"ticks\":\"\"},\"colorscale\":[[0.0,\"#0d0887\"],[0.1111111111111111,\"#46039f\"],[0.2222222222222222,\"#7201a8\"],[0.3333333333333333,\"#9c179e\"],[0.4444444444444444,\"#bd3786\"],[0.5555555555555556,\"#d8576b\"],[0.6666666666666666,\"#ed7953\"],[0.7777777777777778,\"#fb9f3a\"],[0.8888888888888888,\"#fdca26\"],[1.0,\"#f0f921\"]]}],\"contourcarpet\":[{\"type\":\"contourcarpet\",\"colorbar\":{\"outlinewidth\":0,\"ticks\":\"\"}}],\"contour\":[{\"type\":\"contour\",\"colorbar\":{\"outlinewidth\":0,\"ticks\":\"\"},\"colorscale\":[[0.0,\"#0d0887\"],[0.1111111111111111,\"#46039f\"],[0.2222222222222222,\"#7201a8\"],[0.3333333333333333,\"#9c179e\"],[0.4444444444444444,\"#bd3786\"],[0.5555555555555556,\"#d8576b\"],[0.6666666666666666,\"#ed7953\"],[0.7777777777777778,\"#fb9f3a\"],[0.8888888888888888,\"#fdca26\"],[1.0,\"#f0f921\"]]}],\"surface\":[{\"type\":\"surface\",\"colorbar\":{\"outlinewidth\":0,\"ticks\":\"\"},\"colorscale\":[[0.0,\"#0d0887\"],[0.1111111111111111,\"#46039f\"],[0.2222222222222222,\"#7201a8\"],[0.3333333333333333,\"#9c179e\"],[0.4444444444444444,\"#bd3786\"],[0.5555555555555556,\"#d8576b\"],[0.6666666666666666,\"#ed7953\"],[0.7777777777777778,\"#fb9f3a\"],[0.8888888888888888,\"#fdca26\"],[1.0,\"#f0f921\"]]}],\"mesh3d\":[{\"type\":\"mesh3d\",\"colorbar\":{\"outlinewidth\":0,\"ticks\":\"\"}}],\"scatter\":[{\"fillpattern\":{\"fillmode\":\"overlay\",\"size\":10,\"solidity\":0.2},\"type\":\"scatter\"}],\"parcoords\":[{\"type\":\"parcoords\",\"line\":{\"colorbar\":{\"outlinewidth\":0,\"ticks\":\"\"}}}],\"scatterpolargl\":[{\"type\":\"scatterpolargl\",\"marker\":{\"colorbar\":{\"outlinewidth\":0,\"ticks\":\"\"}}}],\"bar\":[{\"error_x\":{\"color\":\"#2a3f5f\"},\"error_y\":{\"color\":\"#2a3f5f\"},\"marker\":{\"line\":{\"color\":\"#E5ECF6\",\"width\":0.5},\"pattern\":{\"fillmode\":\"overlay\",\"size\":10,\"solidity\":0.2}},\"type\":\"bar\"}],\"scattergeo\":[{\"type\":\"scattergeo\",\"marker\":{\"colorbar\":{\"outlinewidth\":0,\"ticks\":\"\"}}}],\"scatterpolar\":[{\"type\":\"scatterpolar\",\"marker\":{\"colorbar\":{\"outlinewidth\":0,\"ticks\":\"\"}}}],\"histogram\":[{\"marker\":{\"pattern\":{\"fillmode\":\"overlay\",\"size\":10,\"solidity\":0.2}},\"type\":\"histogram\"}],\"scattergl\":[{\"type\":\"scattergl\",\"marker\":{\"colorbar\":{\"outlinewidth\":0,\"ticks\":\"\"}}}],\"scatter3d\":[{\"type\":\"scatter3d\",\"line\":{\"colorbar\":{\"outlinewidth\":0,\"ticks\":\"\"}},\"marker\":{\"colorbar\":{\"outlinewidth\":0,\"ticks\":\"\"}}}],\"scattermapbox\":[{\"type\":\"scattermapbox\",\"marker\":{\"colorbar\":{\"outlinewidth\":0,\"ticks\":\"\"}}}],\"scatterternary\":[{\"type\":\"scatterternary\",\"marker\":{\"colorbar\":{\"outlinewidth\":0,\"ticks\":\"\"}}}],\"scattercarpet\":[{\"type\":\"scattercarpet\",\"marker\":{\"colorbar\":{\"outlinewidth\":0,\"ticks\":\"\"}}}],\"carpet\":[{\"aaxis\":{\"endlinecolor\":\"#2a3f5f\",\"gridcolor\":\"white\",\"linecolor\":\"white\",\"minorgridcolor\":\"white\",\"startlinecolor\":\"#2a3f5f\"},\"baxis\":{\"endlinecolor\":\"#2a3f5f\",\"gridcolor\":\"white\",\"linecolor\":\"white\",\"minorgridcolor\":\"white\",\"startlinecolor\":\"#2a3f5f\"},\"type\":\"carpet\"}],\"table\":[{\"cells\":{\"fill\":{\"color\":\"#EBF0F8\"},\"line\":{\"color\":\"white\"}},\"header\":{\"fill\":{\"color\":\"#C8D4E3\"},\"line\":{\"color\":\"white\"}},\"type\":\"table\"}],\"barpolar\":[{\"marker\":{\"line\":{\"color\":\"#E5ECF6\",\"width\":0.5},\"pattern\":{\"fillmode\":\"overlay\",\"size\":10,\"solidity\":0.2}},\"type\":\"barpolar\"}],\"pie\":[{\"automargin\":true,\"type\":\"pie\"}],\"indicator\":[{\"delta\":{\"reference\":90},\"mode\":\"number+delta+gauge\",\"title\":{\"text\":\"Speed\"},\"type\":\"indicator\"}]},\"layout\":{\"autotypenumbers\":\"strict\",\"colorway\":[\"#636efa\",\"#EF553B\",\"#00cc96\",\"#ab63fa\",\"#FFA15A\",\"#19d3f3\",\"#FF6692\",\"#B6E880\",\"#FF97FF\",\"#FECB52\"],\"font\":{\"color\":\"#2a3f5f\"},\"hovermode\":\"closest\",\"hoverlabel\":{\"align\":\"left\"},\"paper_bgcolor\":\"white\",\"plot_bgcolor\":\"#E5ECF6\",\"polar\":{\"bgcolor\":\"#E5ECF6\",\"angularaxis\":{\"gridcolor\":\"white\",\"linecolor\":\"white\",\"ticks\":\"\"},\"radialaxis\":{\"gridcolor\":\"white\",\"linecolor\":\"white\",\"ticks\":\"\"}},\"ternary\":{\"bgcolor\":\"#E5ECF6\",\"aaxis\":{\"gridcolor\":\"white\",\"linecolor\":\"white\",\"ticks\":\"\"},\"baxis\":{\"gridcolor\":\"white\",\"linecolor\":\"white\",\"ticks\":\"\"},\"caxis\":{\"gridcolor\":\"white\",\"linecolor\":\"white\",\"ticks\":\"\"}},\"coloraxis\":{\"colorbar\":{\"outlinewidth\":0,\"ticks\":\"\"}},\"colorscale\":{\"sequential\":[[0.0,\"#0d0887\"],[0.1111111111111111,\"#46039f\"],[0.2222222222222222,\"#7201a8\"],[0.3333333333333333,\"#9c179e\"],[0.4444444444444444,\"#bd3786\"],[0.5555555555555556,\"#d8576b\"],[0.6666666666666666,\"#ed7953\"],[0.7777777777777778,\"#fb9f3a\"],[0.8888888888888888,\"#fdca26\"],[1.0,\"#f0f921\"]],\"sequentialminus\":[[0.0,\"#0d0887\"],[0.1111111111111111,\"#46039f\"],[0.2222222222222222,\"#7201a8\"],[0.3333333333333333,\"#9c179e\"],[0.4444444444444444,\"#bd3786\"],[0.5555555555555556,\"#d8576b\"],[0.6666666666666666,\"#ed7953\"],[0.7777777777777778,\"#fb9f3a\"],[0.8888888888888888,\"#fdca26\"],[1.0,\"#f0f921\"]],\"diverging\":[[0,\"#8e0152\"],[0.1,\"#c51b7d\"],[0.2,\"#de77ae\"],[0.3,\"#f1b6da\"],[0.4,\"#fde0ef\"],[0.5,\"#f7f7f7\"],[0.6,\"#e6f5d0\"],[0.7,\"#b8e186\"],[0.8,\"#7fbc41\"],[0.9,\"#4d9221\"],[1,\"#276419\"]]},\"xaxis\":{\"gridcolor\":\"white\",\"linecolor\":\"white\",\"ticks\":\"\",\"title\":{\"standoff\":15},\"zerolinecolor\":\"white\",\"automargin\":true,\"zerolinewidth\":2},\"yaxis\":{\"gridcolor\":\"white\",\"linecolor\":\"white\",\"ticks\":\"\",\"title\":{\"standoff\":15},\"zerolinecolor\":\"white\",\"automargin\":true,\"zerolinewidth\":2},\"scene\":{\"xaxis\":{\"backgroundcolor\":\"#E5ECF6\",\"gridcolor\":\"white\",\"linecolor\":\"white\",\"showbackground\":true,\"ticks\":\"\",\"zerolinecolor\":\"white\",\"gridwidth\":2},\"yaxis\":{\"backgroundcolor\":\"#E5ECF6\",\"gridcolor\":\"white\",\"linecolor\":\"white\",\"showbackground\":true,\"ticks\":\"\",\"zerolinecolor\":\"white\",\"gridwidth\":2},\"zaxis\":{\"backgroundcolor\":\"#E5ECF6\",\"gridcolor\":\"white\",\"linecolor\":\"white\",\"showbackground\":true,\"ticks\":\"\",\"zerolinecolor\":\"white\",\"gridwidth\":2}},\"shapedefaults\":{\"line\":{\"color\":\"#2a3f5f\"}},\"annotationdefaults\":{\"arrowcolor\":\"#2a3f5f\",\"arrowhead\":0,\"arrowwidth\":1},\"geo\":{\"bgcolor\":\"white\",\"landcolor\":\"#E5ECF6\",\"subunitcolor\":\"white\",\"showland\":true,\"showlakes\":true,\"lakecolor\":\"white\"},\"title\":{\"x\":0.05},\"mapbox\":{\"style\":\"light\"}}},\"grid\":{\"rows\":1,\"columns\":2,\"pattern\":\"independent\"}},                        {\"responsive\": true}                    ).then(function(){\n",
       "                            \n",
       "var gd = document.getElementById('f593b609-35d4-4456-973d-8716891bdb0c');\n",
       "var x = new MutationObserver(function (mutations, observer) {{\n",
       "        var display = window.getComputedStyle(gd).display;\n",
       "        if (!display || display === 'none') {{\n",
       "            console.log([gd, 'removed!']);\n",
       "            Plotly.purge(gd);\n",
       "            observer.disconnect();\n",
       "        }}\n",
       "}});\n",
       "\n",
       "// Listen for the removal of the full notebook cells\n",
       "var notebookContainer = gd.closest('#notebook-container');\n",
       "if (notebookContainer) {{\n",
       "    x.observe(notebookContainer, {childList: true});\n",
       "}}\n",
       "\n",
       "// Listen for the clearing of the current output cell\n",
       "var outputEl = gd.closest('.output');\n",
       "if (outputEl) {{\n",
       "    x.observe(outputEl, {childList: true});\n",
       "}}\n",
       "\n",
       "                        })                };                });            </script>        </div>"
      ]
     },
     "metadata": {},
     "output_type": "display_data"
    }
   ],
   "source": [
    "import plotly.graph_objects as go\n",
    "\n",
    "fig = go.Figure()\n",
    "\n",
    "fig.add_trace(go.Indicator(\n",
    "    mode = \"number\",\n",
    "    value = 40,\n",
    "    title = 'Количество уроков с быстрым прохождением',\n",
    "    domain = {'row': 0, 'column': 0}))\n",
    "\n",
    "fig.add_trace(go.Indicator(\n",
    "    mode = \"gauge+number\",\n",
    "    value = df2['delta_seconds'].median(),\n",
    "    title = {'text': \"Медианный интервал (сек)\"},\n",
    "    domain = {'row': 0, 'column': 1}))\n",
    "\n",
    "fig.update_layout(\n",
    "    grid = {'rows': 1, 'columns': 2, 'pattern': \"independent\"},\n",
    "    template = {'data' : {'indicator': [{\n",
    "        'title': {'text': \"Speed\"},\n",
    "        'mode' : \"number+delta+gauge\",\n",
    "        'delta' : {'reference': 90}}]\n",
    "                         }})\n",
    "\n",
    "fig.show()"
   ]
  },
  {
   "cell_type": "markdown",
   "metadata": {},
   "source": [
    "## Как называются эти (быстрые) уроки"
   ]
  },
  {
   "cell_type": "markdown",
   "metadata": {},
   "source": [
    "(необходимо использовать lesson_id) - хорошо, но тогда они сливаются (см ниже)"
   ]
  },
  {
   "cell_type": "code",
   "execution_count": 16,
   "metadata": {},
   "outputs": [],
   "source": [
    "lessons_data = pd.DataFrame(df['lesson_id'].value_counts()).reset_index()"
   ]
  },
  {
   "cell_type": "code",
   "execution_count": 17,
   "metadata": {},
   "outputs": [
    {
     "data": {
      "image/png": "[encoded data removed]",
      "text/plain": [
       "<Figure size 720x720 with 1 Axes>"
      ]
     },
     "metadata": {},
     "output_type": "display_data"
    }
   ],
   "source": [
    "plt.figure(figsize=(10,10))\n",
    "plt.title('Уроки, встретившиеся хотя бы 2 раза')\n",
    "plt.pie(lessons_data[lessons_data['lesson_id'] > 1]['lesson_id'].to_list(), \n",
    "        labels=lessons_data[lessons_data['lesson_id'] > 1]['index'].to_list(), autopct='%1.1f%%',\n",
    "        shadow=False, startangle=0)\n",
    "plt.show()"
   ]
  },
  {
   "cell_type": "markdown",
   "metadata": {},
   "source": [
    "### И отдельно выведем список уроков, пройденных слишком быстро только 1 раз (чтобы не сливались на графике)"
   ]
  },
  {
   "cell_type": "code",
   "execution_count": 18,
   "metadata": {},
   "outputs": [
    {
     "data": {
      "text/plain": [
       "0     cc57bb5d-707b-4466-8c6b-651d9447dfe5\n",
       "1     2fb8f1df-6e9a-4b1f-86ff-ca213ef98cc7\n",
       "2     24d355f6-4f88-4c05-bf51-e0e1db42f184\n",
       "3     b65b6ada-b087-44ba-b66d-74a05b96e8b7\n",
       "4     d0162814-ae0a-4c0c-8e60-22ecf53c5348\n",
       "5     c43465c3-1579-43d2-b229-0c0eaec20e27\n",
       "6     cbadcca3-dcca-4257-b343-01133a1b96c9\n",
       "7     792a07d1-74c4-4c58-8275-b5df3f1cdb5c\n",
       "8     48537cd0-2405-438a-ac7b-d79d3d776931\n",
       "9     79aa5d37-fa47-4342-a9a3-d756d74e4540\n",
       "10    a8bfc93d-27b9-4bc5-a20c-aca067ee63b1\n",
       "11    9a2be4f6-1e7e-4630-9530-3d1f7939e429\n",
       "12    e1324af1-8285-4c22-93f0-10e7641dc254\n",
       "13    b1505742-72ef-456f-b3f6-932461fadce6\n",
       "14    cec6f205-490c-4e36-8167-53db63585876\n",
       "15    a341596d-0793-4333-a3b5-0eb24f7f6b77\n",
       "16    e6f68e73-9a82-4025-8cf0-14fb4f76c034\n",
       "17    a7b2c524-eef0-46af-b065-044492a4f4c0\n",
       "18    3891bd65-5ff9-4355-b886-f5796ce6ba72\n",
       "19    cd601912-2c45-429c-b9f1-3ef16fb07a31\n",
       "20    21fbfb7c-8b74-40e7-9cd8-9590b7903f26\n",
       "Name: index, dtype: object"
      ]
     },
     "execution_count": 18,
     "metadata": {},
     "output_type": "execute_result"
    }
   ],
   "source": [
    "lessons_data[lessons_data['lesson_id'] > 1]['index']"
   ]
  }
 ],
 "metadata": {
  "kernelspec": {
   "display_name": "Python 3 (ipykernel)",
   "language": "python",
   "name": "python3"
  },
  "language_info": {
   "codemirror_mode": {
    "name": "ipython",
    "version": 3
   },
   "file_extension": ".py",
   "mimetype": "text/x-python",
   "name": "python",
   "nbconvert_exporter": "python",
   "pygments_lexer": "ipython3",
   "version": "3.9.7"
  }
 },
 "nbformat": 4,
 "nbformat_minor": 5
}
